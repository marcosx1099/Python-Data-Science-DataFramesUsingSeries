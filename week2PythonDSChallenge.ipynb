{
 "cells": [
  {
   "cell_type": "code",
   "execution_count": 2,
   "id": "cd121972",
   "metadata": {},
   "outputs": [],
   "source": [
    "import pandas as pd\n",
    "import numpy as np"
   ]
  },
  {
   "cell_type": "code",
   "execution_count": 3,
   "id": "f3776bce",
   "metadata": {},
   "outputs": [
    {
     "name": "stdout",
     "output_type": "stream",
     "text": [
      "<class 'list'>\n"
     ]
    }
   ],
   "source": [
    "index = np.arange(101,121)\n",
    "\n",
    "\n",
    "price = [80121, 48483, 37077, 30660, 68536, 52666, 78703, 51036, 55643, 56990, 39967, 93822, 51406, 93947, 78373, 62765, 47536, 40528, 58780, 83197]\n",
    "print(type(price))"
   ]
  },
  {
   "cell_type": "code",
   "execution_count": 3,
   "id": "ac95cb10",
   "metadata": {},
   "outputs": [
    {
     "data": {
      "text/plain": [
       "101    80121\n",
       "102    48483\n",
       "103    37077\n",
       "104    30660\n",
       "105    68536\n",
       "106    52666\n",
       "107    78703\n",
       "108    51036\n",
       "109    55643\n",
       "110    56990\n",
       "111    39967\n",
       "112    93822\n",
       "113    51406\n",
       "114    93947\n",
       "115    78373\n",
       "116    62765\n",
       "117    47536\n",
       "118    40528\n",
       "119    58780\n",
       "120    83197\n",
       "dtype: int64"
      ]
     },
     "execution_count": 3,
     "metadata": {},
     "output_type": "execute_result"
    }
   ],
   "source": [
    "#task1 create a pandas series object to store the prices of the cars and assign them the row \n",
    "# indeces from 101-120\n",
    "\n",
    "carPrices = pd.Series(price,index)\n",
    "carPrices"
   ]
  },
  {
   "cell_type": "code",
   "execution_count": 4,
   "id": "2ce94019",
   "metadata": {},
   "outputs": [
    {
     "name": "stdout",
     "output_type": "stream",
     "text": [
      "The index of the highest price car is:\n",
      "114    93947\n",
      "dtype: int64\n",
      "\n",
      "The index of the lowest price car is:\n",
      "104    30660\n",
      "dtype: int64\n"
     ]
    }
   ],
   "source": [
    "#task2 identify the row indeces and prices of the cars with the highest and lowest price\n",
    "\n",
    "print(\"The index of the highest price car is:\")\n",
    "H2L = carPrices.sort_values(ascending = False)\n",
    "print(H2L[:1])\n",
    "print()\n",
    "print(\"The index of the lowest price car is:\")\n",
    "L2H = carPrices.sort_values(ascending = True)\n",
    "print(L2H[:1])"
   ]
  },
  {
   "cell_type": "code",
   "execution_count": 5,
   "id": "4e06a306",
   "metadata": {},
   "outputs": [
    {
     "name": "stdout",
     "output_type": "stream",
     "text": [
      "114    93947\n",
      "112    93822\n",
      "120    83197\n",
      "101    80121\n",
      "107    78703\n",
      "115    78373\n",
      "dtype: int64\n"
     ]
    }
   ],
   "source": [
    "#task3 - Display the prices of the five cars with the highest values of car price along with their row indeces\n",
    "H2L = carPrices.sort_values(ascending = False)[0:6]\n",
    "print(H2L)"
   ]
  },
  {
   "cell_type": "code",
   "execution_count": 6,
   "id": "e1fc72f6",
   "metadata": {},
   "outputs": [
    {
     "name": "stdout",
     "output_type": "stream",
     "text": [
      "There are 3 cars that are between 30k and 40k\n",
      "103    37077\n",
      "104    30660\n",
      "111    39967\n",
      "dtype: int64\n"
     ]
    }
   ],
   "source": [
    "#Task4 Display the prices of all cars priced between $30-40k along with the row indices. \n",
    "#Calculate and display the count of these cars.\n",
    "\n",
    "thirtyforty = carPrices[(carPrices >= 30000) & (carPrices <=40000)]\n",
    "print(f\"There are {thirtyforty.size} cars that are between 30k and 40k\")\n",
    "print(thirtyforty)"
   ]
  },
  {
   "cell_type": "code",
   "execution_count": 7,
   "id": "ba0f6605",
   "metadata": {},
   "outputs": [
    {
     "name": "stdout",
     "output_type": "stream",
     "text": [
      "There are 8 cars that have an above averge price\n",
      "101    80121\n",
      "105    68536\n",
      "107    78703\n",
      "112    93822\n",
      "114    93947\n",
      "115    78373\n",
      "116    62765\n",
      "120    83197\n",
      "dtype: int64\n"
     ]
    }
   ],
   "source": [
    "#task5 Display the prices and row indices of the cars that are priced above the average price of all cars. \n",
    "#Display the count of such cars.\n",
    "\n",
    "\n",
    "above_average = carPrices[carPrices > carPrices.mean()]\n",
    "\n",
    "print(f\"There are {above_average.size} cars that have an above averge price\")\n",
    "\n",
    "print(above_average)"
   ]
  },
  {
   "cell_type": "code",
   "execution_count": 8,
   "id": "2846f676",
   "metadata": {},
   "outputs": [
    {
     "data": {
      "text/html": [
       "<div>\n",
       "<style scoped>\n",
       "    .dataframe tbody tr th:only-of-type {\n",
       "        vertical-align: middle;\n",
       "    }\n",
       "\n",
       "    .dataframe tbody tr th {\n",
       "        vertical-align: top;\n",
       "    }\n",
       "\n",
       "    .dataframe thead th {\n",
       "        text-align: right;\n",
       "    }\n",
       "</style>\n",
       "<table border=\"1\" class=\"dataframe\">\n",
       "  <thead>\n",
       "    <tr style=\"text-align: right;\">\n",
       "      <th></th>\n",
       "      <th>0</th>\n",
       "    </tr>\n",
       "  </thead>\n",
       "  <tbody>\n",
       "    <tr>\n",
       "      <th>101</th>\n",
       "      <td>80121</td>\n",
       "    </tr>\n",
       "    <tr>\n",
       "      <th>102</th>\n",
       "      <td>48483</td>\n",
       "    </tr>\n",
       "    <tr>\n",
       "      <th>103</th>\n",
       "      <td>37077</td>\n",
       "    </tr>\n",
       "    <tr>\n",
       "      <th>104</th>\n",
       "      <td>30660</td>\n",
       "    </tr>\n",
       "    <tr>\n",
       "      <th>105</th>\n",
       "      <td>68536</td>\n",
       "    </tr>\n",
       "    <tr>\n",
       "      <th>106</th>\n",
       "      <td>52666</td>\n",
       "    </tr>\n",
       "    <tr>\n",
       "      <th>107</th>\n",
       "      <td>78703</td>\n",
       "    </tr>\n",
       "    <tr>\n",
       "      <th>108</th>\n",
       "      <td>51036</td>\n",
       "    </tr>\n",
       "    <tr>\n",
       "      <th>109</th>\n",
       "      <td>55643</td>\n",
       "    </tr>\n",
       "    <tr>\n",
       "      <th>110</th>\n",
       "      <td>56990</td>\n",
       "    </tr>\n",
       "    <tr>\n",
       "      <th>111</th>\n",
       "      <td>39967</td>\n",
       "    </tr>\n",
       "    <tr>\n",
       "      <th>112</th>\n",
       "      <td>93822</td>\n",
       "    </tr>\n",
       "    <tr>\n",
       "      <th>113</th>\n",
       "      <td>51406</td>\n",
       "    </tr>\n",
       "    <tr>\n",
       "      <th>114</th>\n",
       "      <td>93947</td>\n",
       "    </tr>\n",
       "    <tr>\n",
       "      <th>115</th>\n",
       "      <td>78373</td>\n",
       "    </tr>\n",
       "    <tr>\n",
       "      <th>116</th>\n",
       "      <td>62765</td>\n",
       "    </tr>\n",
       "    <tr>\n",
       "      <th>117</th>\n",
       "      <td>47536</td>\n",
       "    </tr>\n",
       "    <tr>\n",
       "      <th>118</th>\n",
       "      <td>40528</td>\n",
       "    </tr>\n",
       "    <tr>\n",
       "      <th>119</th>\n",
       "      <td>58780</td>\n",
       "    </tr>\n",
       "    <tr>\n",
       "      <th>120</th>\n",
       "      <td>83197</td>\n",
       "    </tr>\n",
       "    <tr>\n",
       "      <th>121</th>\n",
       "      <td>34000</td>\n",
       "    </tr>\n",
       "    <tr>\n",
       "      <th>122</th>\n",
       "      <td>45000</td>\n",
       "    </tr>\n",
       "    <tr>\n",
       "      <th>123</th>\n",
       "      <td>54000</td>\n",
       "    </tr>\n",
       "  </tbody>\n",
       "</table>\n",
       "</div>"
      ],
      "text/plain": [
       "         0\n",
       "101  80121\n",
       "102  48483\n",
       "103  37077\n",
       "104  30660\n",
       "105  68536\n",
       "106  52666\n",
       "107  78703\n",
       "108  51036\n",
       "109  55643\n",
       "110  56990\n",
       "111  39967\n",
       "112  93822\n",
       "113  51406\n",
       "114  93947\n",
       "115  78373\n",
       "116  62765\n",
       "117  47536\n",
       "118  40528\n",
       "119  58780\n",
       "120  83197\n",
       "121  34000\n",
       "122  45000\n",
       "123  54000"
      ]
     },
     "execution_count": 8,
     "metadata": {},
     "output_type": "execute_result"
    }
   ],
   "source": [
    "#task6 The car dealer needs to add three new cars with the row indices 201, \n",
    "#202, and 203 priced at $34,000, $45,000, and $54,000, respectively. \n",
    "#Update the existing data and display the prices along with the row indices of all cars.\n",
    "\n",
    "#alternate solution\n",
    "\n",
    "prices = [34000, 45000, 54000]\n",
    "index = [121,122,123]\n",
    "new_car_prices = pd.Series(prices, index = index)\n",
    "new = pd.concat([carPrices,new_car_prices])\n",
    "\n",
    "new.to_frame()\n"
   ]
  },
  {
   "cell_type": "code",
   "execution_count": 24,
   "id": "ef9628d7",
   "metadata": {
    "scrolled": true
   },
   "outputs": [
    {
     "name": "stdout",
     "output_type": "stream",
     "text": [
      "The car price at index 101 had an orginial value of 80121 and its discounted price is 64096.8\n",
      "The car price at index 105 had an orginial value of 68536 and its discounted price is 54828.8\n",
      "The car price at index 107 had an orginial value of 78703 and its discounted price is 62962.4\n",
      "The car price at index 112 had an orginial value of 93822 and its discounted price is 75057.6\n",
      "The car price at index 114 had an orginial value of 93947 and its discounted price is 75157.6\n",
      "The car price at index 115 had an orginial value of 78373 and its discounted price is 62698.4\n",
      "The car price at index 116 had an orginial value of 62765 and its discounted price is 50212.0\n",
      "The car price at index 120 had an orginial value of 83197 and its discounted price is 66557.6\n"
     ]
    }
   ],
   "source": [
    "#task7 The car dealer is offering a discount of 20% on cars priced above $60,000.\n",
    "#Display the row indices along with the original and discounted prices of all such cars.\n",
    "\n",
    "for car in carPrices.iteritems():#car is the iterable moving through the carPrices key And Value. It is turned into a tuple.    \n",
    "     if np.asarray(car)[1] > 60000:#The iterable car is turned from a tuple to array and only wants the Value hence why it is indexing the 1 spot\n",
    "        discount_price = carPrices[carPrices > 60000] * .8 #it is now searching through every value where it is greater than 60k\n",
    "        print(f'The car price at index {np.asarray(car)[0]} had an orginial value of {np.asarray(car)[1]} and its discounted price is {np.asarray(car)[1] * .8}')#any where thats indexing 0 is only search for the keys\n",
    "       \n",
    "   "
   ]
  },
  {
   "cell_type": "code",
   "execution_count": 40,
   "id": "3ab0a1c2",
   "metadata": {},
   "outputs": [
    {
     "name": "stdout",
     "output_type": "stream",
     "text": [
      "102    48483\n",
      "103    37077\n",
      "104    30660\n",
      "106    52666\n",
      "108    51036\n",
      "109    55643\n",
      "110    56990\n",
      "111    39967\n",
      "113    51406\n",
      "117    47536\n",
      "118    40528\n",
      "119    58780\n",
      "dtype: int64\n"
     ]
    }
   ],
   "source": [
    "#task8 The cars priced above $60,000 are now sold due to the 20% discount offered by the dealer. \n",
    "#Update the data by deleting the details of the sold cars and print the updated data. \n",
    "#Display the count of cars before and after updating the data.\n",
    "\n",
    "\n",
    "#updated_carPrices = carPrices.drop(carPrices)\n",
    "for car in carPrices.iteritems():    \n",
    "     if np.asarray(car)[1] > 60000:\n",
    "        carPrices = carPrices.drop(labels=[np.asarray(car)[0]])\n",
    "\n",
    "print(carPrices)"
   ]
  },
  {
   "cell_type": "code",
   "execution_count": null,
   "id": "6babeb91",
   "metadata": {},
   "outputs": [],
   "source": []
  },
  {
   "cell_type": "code",
   "execution_count": null,
   "id": "054b107b",
   "metadata": {},
   "outputs": [],
   "source": []
  }
 ],
 "metadata": {
  "kernelspec": {
   "display_name": "Python 3 (ipykernel)",
   "language": "python",
   "name": "python3"
  },
  "language_info": {
   "codemirror_mode": {
    "name": "ipython",
    "version": 3
   },
   "file_extension": ".py",
   "mimetype": "text/x-python",
   "name": "python",
   "nbconvert_exporter": "python",
   "pygments_lexer": "ipython3",
   "version": "3.10.9"
  }
 },
 "nbformat": 4,
 "nbformat_minor": 5
}
